{
 "cells": [
  {
   "cell_type": "markdown",
   "id": "a71633a0",
   "metadata": {},
   "source": [
    "## PARTIE 1"
   ]
  },
  {
   "cell_type": "markdown",
   "id": "a66563ab",
   "metadata": {},
   "source": [
    "Exercice 0 : \n",
    "\n",
    "créer une expression qui reconnait un mail"
   ]
  },
  {
   "cell_type": "markdown",
   "id": "3bccfbd4",
   "metadata": {},
   "source": [
    "Exercice 1 :\n",
    "\n",
    "Écrivez un programme Python pour supprimer les parenthèses dans une chaîne de caractères.\n",
    "\n",
    "Exercice 2 :\n",
    "\n",
    "Écrivez un programme Python pour trouver l'occurrence et la position des sous-chaînes dans une chaîne..\n",
    "\n",
    "Exercice 3 :\n",
    "\n",
    "Écrivez un programme Python pour rechercher les nombres (0-9) de longueur comprise entre 1 et 3 dans une chaîne donnée.\n",
    "\n",
    "Exercice 4  :\n",
    "\n",
    "Écrivez un programme Python pour supprimer les zéros non significatifs d'une adresse IP.\n",
    "\n",
    "Exercice 5  :\n",
    "\n",
    "Écrivez un programme Python pour vérifier un nombre est décimale ou non avec une précision de 3."
   ]
  },
  {
   "cell_type": "code",
   "execution_count": 1,
   "id": "032b30b3",
   "metadata": {},
   "outputs": [
    {
     "data": {
      "text/plain": [
       "'czcz()czxcz'"
      ]
     },
     "execution_count": 1,
     "metadata": {},
     "output_type": "execute_result"
    }
   ],
   "source": [
    "t='czcz()czxcz'\n",
    "t.replace(\"(\",'')\n",
    "t.replace(\")\",'')\n",
    "t"
   ]
  },
  {
   "cell_type": "markdown",
   "id": "9d35bd3f",
   "metadata": {},
   "source": [
    "## PARTIE 2"
   ]
  },
  {
   "cell_type": "markdown",
   "id": "f1ea388f",
   "metadata": {},
   "source": [
    "a) Vérifiez si les chaînes données contiennent 0xB0. Affichez un résultat booléen comme indiqué ci-dessous."
   ]
  },
  {
   "cell_type": "code",
   "execution_count": 2,
   "id": "0d8c408c",
   "metadata": {},
   "outputs": [
    {
     "ename": "NameError",
     "evalue": "name 're' is not defined",
     "output_type": "error",
     "traceback": [
      "\u001b[1;31m---------------------------------------------------------------------------\u001b[0m",
      "\u001b[1;31mNameError\u001b[0m                                 Traceback (most recent call last)",
      "\u001b[1;32m~\\AppData\\Local\\Temp\\ipykernel_13948\\2218998198.py\u001b[0m in \u001b[0;36m<module>\u001b[1;34m\u001b[0m\n\u001b[0;32m      2\u001b[0m \u001b[0mline2\u001b[0m \u001b[1;33m=\u001b[0m \u001b[1;34m'end address: 0xFF, func2 address: 0xB0'\u001b[0m\u001b[1;33m\u001b[0m\u001b[1;33m\u001b[0m\u001b[0m\n\u001b[0;32m      3\u001b[0m \u001b[1;33m\u001b[0m\u001b[0m\n\u001b[1;32m----> 4\u001b[1;33m \u001b[0mprint\u001b[0m\u001b[1;33m(\u001b[0m\u001b[0mbool\u001b[0m\u001b[1;33m(\u001b[0m\u001b[0mre\u001b[0m\u001b[1;33m.\u001b[0m\u001b[0msearch\u001b[0m\u001b[1;33m(\u001b[0m\u001b[1;34mr''\u001b[0m\u001b[1;33m,\u001b[0m \u001b[0mline1\u001b[0m\u001b[1;33m)\u001b[0m\u001b[1;33m)\u001b[0m\u001b[1;33m)\u001b[0m     \u001b[1;31m##### add your solution here\u001b[0m\u001b[1;33m\u001b[0m\u001b[1;33m\u001b[0m\u001b[0m\n\u001b[0m\u001b[0;32m      5\u001b[0m \u001b[1;33m\u001b[0m\u001b[0m\n\u001b[0;32m      6\u001b[0m \u001b[0mprint\u001b[0m\u001b[1;33m(\u001b[0m\u001b[0mbool\u001b[0m\u001b[1;33m(\u001b[0m\u001b[0mre\u001b[0m\u001b[1;33m.\u001b[0m\u001b[0msearch\u001b[0m\u001b[1;33m(\u001b[0m\u001b[1;34mr''\u001b[0m\u001b[1;33m,\u001b[0m \u001b[0mline2\u001b[0m\u001b[1;33m)\u001b[0m\u001b[1;33m)\u001b[0m\u001b[1;33m)\u001b[0m     \u001b[1;31m##### add your solution here\u001b[0m\u001b[1;33m\u001b[0m\u001b[1;33m\u001b[0m\u001b[0m\n",
      "\u001b[1;31mNameError\u001b[0m: name 're' is not defined"
     ]
    }
   ],
   "source": [
    "line1 = 'start address: 0xA0, func1 address: 0xC0'\n",
    "line2 = 'end address: 0xFF, func2 address: 0xB0'\n",
    "\n",
    "print(bool(re.search(r'', line1)))     ##### add your solution here\n",
    "\n",
    "print(bool(re.search(r'', line2)))     ##### add your solution here"
   ]
  },
  {
   "cell_type": "markdown",
   "id": "9b4aa5be",
   "metadata": {},
   "source": [
    "b)Remplacer toutes les occurrences de 5 par cinq pour la chaîne donnée"
   ]
  },
  {
   "cell_type": "code",
   "execution_count": 3,
   "id": "b406d2e3",
   "metadata": {},
   "outputs": [
    {
     "ename": "NameError",
     "evalue": "name 're' is not defined",
     "output_type": "error",
     "traceback": [
      "\u001b[1;31m---------------------------------------------------------------------------\u001b[0m",
      "\u001b[1;31mNameError\u001b[0m                                 Traceback (most recent call last)",
      "\u001b[1;32m~\\AppData\\Local\\Temp\\ipykernel_13948\\1704848782.py\u001b[0m in \u001b[0;36m<module>\u001b[1;34m\u001b[0m\n\u001b[0;32m      1\u001b[0m \u001b[0mip\u001b[0m \u001b[1;33m=\u001b[0m \u001b[1;34m'They ate 5 apples and 5 oranges'\u001b[0m\u001b[1;33m\u001b[0m\u001b[1;33m\u001b[0m\u001b[0m\n\u001b[0;32m      2\u001b[0m \u001b[1;33m\u001b[0m\u001b[0m\n\u001b[1;32m----> 3\u001b[1;33m \u001b[0mprint\u001b[0m\u001b[1;33m(\u001b[0m\u001b[0mre\u001b[0m\u001b[1;33m.\u001b[0m\u001b[0msub\u001b[0m\u001b[1;33m(\u001b[0m\u001b[1;33m)\u001b[0m\u001b[1;33m)\u001b[0m        \u001b[1;31m##### add your solution here\u001b[0m\u001b[1;33m\u001b[0m\u001b[1;33m\u001b[0m\u001b[0m\n\u001b[0m",
      "\u001b[1;31mNameError\u001b[0m: name 're' is not defined"
     ]
    }
   ],
   "source": [
    "ip = 'They ate 5 apples and 5 oranges'\n",
    "\n",
    "print(re.sub())        ##### add your solution here"
   ]
  },
  {
   "cell_type": "markdown",
   "id": "d0e1d375",
   "metadata": {},
   "source": [
    "c) Pour la liste donnée, filtrez tous les éléments qui ne contiennent pas e."
   ]
  },
  {
   "cell_type": "code",
   "execution_count": 4,
   "id": "6a7099c5",
   "metadata": {},
   "outputs": [],
   "source": [
    "items = ['goal', 'new', 'user', 'sit', 'eat', 'dinner']\n",
    "\n",
    "##### add your solution here"
   ]
  },
  {
   "cell_type": "markdown",
   "id": "33f2f68a",
   "metadata": {},
   "source": [
    "d) Pour la liste donnée, filtrez tous les éléments qui contiennent à la fois e et n."
   ]
  },
  {
   "cell_type": "code",
   "execution_count": 5,
   "id": "44818110",
   "metadata": {},
   "outputs": [],
   "source": [
    "items = ['goal', 'new', 'user', 'sit', 'eat', 'dinner']\n",
    "\n",
    "##### add your solution here"
   ]
  },
  {
   "cell_type": "code",
   "execution_count": null,
   "id": "d6d7fa26",
   "metadata": {},
   "outputs": [],
   "source": []
  }
 ],
 "metadata": {
  "kernelspec": {
   "display_name": "Python 3 (ipykernel)",
   "language": "python",
   "name": "python3"
  },
  "language_info": {
   "codemirror_mode": {
    "name": "ipython",
    "version": 3
   },
   "file_extension": ".py",
   "mimetype": "text/x-python",
   "name": "python",
   "nbconvert_exporter": "python",
   "pygments_lexer": "ipython3",
   "version": "3.11.5"
  }
 },
 "nbformat": 4,
 "nbformat_minor": 5
}
