{
 "cells": [
  {
   "cell_type": "markdown",
   "metadata": {},
   "source": [
    "# NLP M2 YNOV CAMPUS"
   ]
  },
  {
   "cell_type": "markdown",
   "metadata": {
    "collapsed": true
   },
   "source": [
    "# Évaluation sur les bases textuelles de Python\n",
    "\n",
    "\n",
    "Bienvenue dans votre évaluation ! Effectuez les tâches décrites en gras ci-dessous en tapant le code correspondant dans les cellules."
   ]
  },
  {
   "cell_type": "markdown",
   "metadata": {},
   "source": [
    "## f-Chaînes\n",
    "#### 1. Imprimez une chaîne f qui affiche `NLP signifie Natural Language Processing` en utilisant les variables fournies."
   ]
  },
  {
   "cell_type": "code",
   "execution_count": 24,
   "metadata": {},
   "outputs": [
    {
     "name": "stdout",
     "output_type": "stream",
     "text": [
      "Natural Language Processing\n"
     ]
    }
   ],
   "source": [
    "abbr = 'NLP'\n",
    "full_text = 'Natural Language Processing'\n",
    "\n",
    "# Enter your code here:\n",
    "print(f'{full_text}')"
   ]
  },
  {
   "cell_type": "markdown",
   "metadata": {},
   "source": [
    "## Fichiers\n",
    "#### 2. Créez un fichier dans le répertoire de travail actuel appelé `contacts.txt` en exécutant la cellule ci-dessous :"
   ]
  },
  {
   "cell_type": "code",
   "execution_count": 25,
   "metadata": {},
   "outputs": [
    {
     "name": "stdout",
     "output_type": "stream",
     "text": [
      "Overwriting contacts.txt\n"
     ]
    }
   ],
   "source": [
    "%%writefile contacts.txt\n",
    "First_Name Last_Name, Title, Extension, Email"
   ]
  },
  {
   "cell_type": "markdown",
   "metadata": {},
   "source": [
    "#### 3. Ouvrez le fichier et utilisez .read() pour enregistrer le contenu du fichier dans une chaîne appelée `fields`.  Assurez-vous que le fichier est fermé à la fin."
   ]
  },
  {
   "cell_type": "code",
   "execution_count": 26,
   "metadata": {},
   "outputs": [
    {
     "data": {
      "text/plain": [
       "'First_Name Last_Name, Title, Extension, Email\\n'"
      ]
     },
     "execution_count": 26,
     "metadata": {},
     "output_type": "execute_result"
    }
   ],
   "source": [
    "# Write your code here:\n",
    "f=open('contacts.txt')\n",
    "fields=f.read()\n",
    "f.close()\n",
    "\n",
    "\n",
    "    \n",
    "# Run fields to see the contents of contacts.txt:\n",
    "fields"
   ]
  },
  {
   "cell_type": "markdown",
   "metadata": {},
   "source": [
    "## Travailler avec des fichiers PDF\n",
    "#### 4. Utilisez PyPDF2 pour ouvrir le fichier `Proposition_d'affaires.pdf`. Extrayez le texte de la page 2."
   ]
  },
  {
   "cell_type": "code",
   "execution_count": 27,
   "metadata": {},
   "outputs": [
    {
     "name": "stdout",
     "output_type": "stream",
     "text": [
      "AUTHORS:  \n",
      "Amy Baker, Finance Chair, x345, abaker@ourcompany.com  \n",
      "Chris Donaldson, Accounting Dir., x621, cdonaldson@ourcompany.com  \n",
      "Erin Freeman, Sr. VP, x879, efreeman@ourcompany.com  \n"
     ]
    }
   ],
   "source": [
    "# Perform import\n",
    "import PyPDF2\n",
    "\n",
    "# Open the file as a binary object\n",
    "b = open(\"Business_Proposal.pdf\",'rb')\n",
    "\n",
    "# Use PyPDF2 to read the text of the file\n",
    "pdf_reader = PyPDF2.PdfReader(b)\n",
    "\n",
    "\n",
    "# Get the text from page 2 (CHALLENGE: Do this in one step!)\n",
    "page_two_text = pdf_reader.pages[1].extract_text()\n",
    "\n",
    "b.close()\n",
    "\n",
    "# Close the file\n",
    "\n",
    "\n",
    "# Print the contents of page_two_text\n",
    "print(page_two_text)"
   ]
  },
  {
   "cell_type": "markdown",
   "metadata": {},
   "source": [
    "#### 5. Ouvrez le fichier `contacts.txt` en mode append. Ajoutez le texte de la page 2 ci-dessus à `contacts.txt`.\n",
    "\n",
    "#### CHALLENGE : Essayez de supprimer le mot \"AUTHORS :\""
   ]
  },
  {
   "cell_type": "code",
   "execution_count": 28,
   "metadata": {},
   "outputs": [
    {
     "name": "stdout",
     "output_type": "stream",
     "text": [
      "First_Name Last_Name, Title, Extension, Email\n",
      "\n",
      "AUTHORS:  \n",
      "Amy Baker, Finance Chair, x345, abaker@ourcompany.com  \n",
      "Chris Donaldson, Accounting Dir., x621, cdonaldson@ourcompany.com  \n",
      "Erin Freeman, Sr. VP, x879, efreeman@ourcompany.com  \n"
     ]
    }
   ],
   "source": [
    "# Simple Solution:\n",
    "\n",
    "f=open('contacts.txt','a+')\n",
    "f.write('\\n'+page_two_text)\n",
    "f.seek(0)\n",
    "print(f.read())\n",
    "\n",
    "f.close()\n",
    "\n",
    "\n"
   ]
  },
  {
   "cell_type": "code",
   "execution_count": 29,
   "metadata": {},
   "outputs": [
    {
     "name": "stdout",
     "output_type": "stream",
     "text": [
      "First_Name Last_Name, Title, Extension, Email\n",
      "\n",
      "Amy Baker, Finance Chair, x345, abaker@ourcompany.com\n",
      "Chris Donaldson, Accounting Dir., x621, cdonaldson@ourcompany.com\n",
      "Erin Freeman, Sr. VP, x879, efreeman@ourcompany.com\n"
     ]
    }
   ],
   "source": [
    "#### CHALLENGE : Essayez de supprimer le mot \"AUTHORS :\"\n",
    "\n",
    "with open('contacts.txt', 'r') as file:\n",
    "    lines = file.readlines()\n",
    "\n",
    "# Filter out the \"AUTHORS:\" line and join the remaining lines\n",
    "filtered_lines = [line.strip() for line in lines if not line.startswith('AUTHORS:')]\n",
    "new_text = '\\n'.join(filtered_lines)\n",
    "\n",
    "print(new_text)\n",
    "\n",
    "# Write the modified text to the 'contacts.txt' file\n",
    "with open('contacts.txt', 'w') as file:\n",
    "    file.write(new_text)\n",
    "\n",
    "# Close the file after writing\n",
    "f=open('contacts.txt')\n",
    "fields=f.read()\n",
    "f.close()\n"
   ]
  },
  {
   "cell_type": "code",
   "execution_count": 40,
   "metadata": {},
   "outputs": [
    {
     "name": "stdout",
     "output_type": "stream",
     "text": [
      "First_Name Last_Name, Title, Extension, Email\n",
      "\n",
      "      \n",
      "\n",
      "Amy Baker, Finance Chair, x345, abaker@ourcompany.com\n",
      "\n",
      "Chris Donaldson, Accounting Dir., x621, cdonaldson@ourcompany.com\n",
      "\n",
      "Erin Freeman, Sr. VP, x879, efreeman@ourcompany.com\n",
      "\n"
     ]
    }
   ],
   "source": [
    "# CHALLENGE Solution (re-run the %%writefile cell above to obtain an unmodified contacts.txt file):\n",
    "\n",
    "\n",
    "with open('contacts.txt','r') as txt:\n",
    "    lines = txt.readlines()\n",
    "\n",
    "all_text=''\n",
    "\n",
    "\n",
    "for line in lines:\n",
    "    all_text+=(f'{line:>{7}}')+'\\n'\n",
    "\n",
    "    \n",
    "print(all_text)"
   ]
  },
  {
   "cell_type": "markdown",
   "metadata": {},
   "source": [
    "## Expressions régulières\n",
    "#### 6. En utilisant la variable `page_two_text` créée ci-dessus, extrayez toutes les adresses email contenues dans le fichier `Business_Proposal.pdf`."
   ]
  },
  {
   "cell_type": "code",
   "execution_count": 32,
   "metadata": {},
   "outputs": [
    {
     "data": {
      "text/plain": [
       "['abaker@ourcompany.com',\n",
       " 'cdonaldson@ourcompany.com',\n",
       " 'efreeman@ourcompany.com']"
      ]
     },
     "execution_count": 32,
     "metadata": {},
     "output_type": "execute_result"
    }
   ],
   "source": [
    "import re\n",
    "\n",
    "# Enter your regex pattern here. This may take several tries!\n",
    "pattern =  r'\\b[A-Za-z0-9._%+-]+@[A-Za-z0-9.-]+\\.[A-Z|a-z]{2,7}\\b'\n",
    "\n",
    "# Find all email addresses in the text using the regex pattern\n",
    "\n",
    "re.findall(pattern, page_two_text)"
   ]
  },
  {
   "cell_type": "markdown",
   "metadata": {},
   "source": [
    "### 7. créer une expression qui reconnait un mail"
   ]
  },
  {
   "cell_type": "markdown",
   "metadata": {},
   "source": [
    "# BONUS PARTIE 2 sur demande"
   ]
  },
  {
   "cell_type": "code",
   "execution_count": null,
   "metadata": {},
   "outputs": [],
   "source": []
  }
 ],
 "metadata": {
  "kernelspec": {
   "display_name": "Python 3 (ipykernel)",
   "language": "python",
   "name": "python3"
  },
  "language_info": {
   "codemirror_mode": {
    "name": "ipython",
    "version": 3
   },
   "file_extension": ".py",
   "mimetype": "text/x-python",
   "name": "python",
   "nbconvert_exporter": "python",
   "pygments_lexer": "ipython3",
   "version": "3.11.5"
  }
 },
 "nbformat": 4,
 "nbformat_minor": 2
}
