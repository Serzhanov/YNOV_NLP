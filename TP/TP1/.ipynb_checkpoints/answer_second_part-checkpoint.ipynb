{
 "cells": [
  {
   "cell_type": "markdown",
   "id": "a71633a0",
   "metadata": {},
   "source": [
    "## PARTIE 1"
   ]
  },
  {
   "cell_type": "markdown",
   "id": "a66563ab",
   "metadata": {},
   "source": [
    "Exercice 0 : \n",
    "\n",
    "créer une expression qui reconnait un mail"
   ]
  },
  {
   "cell_type": "markdown",
   "id": "3bccfbd4",
   "metadata": {},
   "source": [
    "Exercice 1 :\n",
    "\n",
    "Écrivez un programme Python pour supprimer les parenthèses dans une chaîne de caractères.\n",
    "\n",
    "Exercice 2 :\n",
    "\n",
    "Écrivez un programme Python pour trouver l'occurrence et la position des sous-chaînes dans une chaîne..\n",
    "\n",
    "Exercice 3 :\n",
    "\n",
    "Écrivez un programme Python pour rechercher les nombres (0-9) de longueur comprise entre 1 et 3 dans une chaîne donnée.\n",
    "\n",
    "Exercice 4  :\n",
    "\n",
    "Écrivez un programme Python pour supprimer les zéros non significatifs d'une adresse IP.\n",
    "\n",
    "Exercice 5  :\n",
    "\n",
    "Écrivez un programme Python pour vérifier un nombre est décimale ou non avec une précision de 3."
   ]
  },
  {
   "cell_type": "raw",
   "id": "fd32b14b",
   "metadata": {},
   "source": []
  },
  {
   "cell_type": "code",
   "execution_count": 43,
   "id": "13b8c428",
   "metadata": {},
   "outputs": [
    {
     "name": "stdout",
     "output_type": "stream",
     "text": [
      "czczczxcz\n",
      "{'position': (4, 8), 'occurence': 'text'}\n",
      "['001', '123']\n",
      "192.168.2.100\n",
      ".003\n",
      "True\n",
      ".03\n",
      "False\n"
     ]
    }
   ],
   "source": [
    "import re\n",
    "def ex1(text):\n",
    "    return text.replace(\"(\",\"\").replace(')',\"\")\n",
    "\n",
    "def ex2(text,sous_text):\n",
    "    return {\"position\":re.search(sous_text,text).span(),\"occurence\":re.search(sous_text,text).group()}\n",
    "\n",
    "def ex3(text):\n",
    "    return re.findall(r'\\d{3}',text)\n",
    "\n",
    "def ex4(ip):\n",
    "    pattern = r'\\b0+(\\d+)\\b'\n",
    "    \n",
    "    result = re.sub(pattern, r'\\1', ip)\n",
    "    return result\n",
    "    \n",
    "def ex5(text):\n",
    "    point=re.search('.',text).span()[0]\n",
    "    if len(text[point+1:])==4: #'.xxx'\n",
    "        return True\n",
    "    return False\n",
    "\n",
    "print(ex1('czc(z()czxc)z'))\n",
    "print(ex2('soustext','text'))\n",
    "print(ex3('001dssd23dff1q1234'))\n",
    "print(ex4('192.168.002.100'))\n",
    "print(ex5('0.003'))\n",
    "print(ex5('0.03'))"
   ]
  },
  {
   "cell_type": "markdown",
   "id": "9d35bd3f",
   "metadata": {},
   "source": [
    "## PARTIE 2"
   ]
  },
  {
   "cell_type": "markdown",
   "id": "f1ea388f",
   "metadata": {},
   "source": [
    "a) Vérifiez si les chaînes données contiennent 0xB0. Affichez un résultat booléen comme indiqué ci-dessous."
   ]
  },
  {
   "cell_type": "code",
   "execution_count": 44,
   "id": "0d8c408c",
   "metadata": {},
   "outputs": [
    {
     "name": "stdout",
     "output_type": "stream",
     "text": [
      "False\n",
      "True\n"
     ]
    }
   ],
   "source": [
    "line1 = 'start address: 0xA0, func1 address: 0xC0'\n",
    "line2 = 'end address: 0xFF, func2 address: 0xB0'\n",
    "\n",
    "print(bool(re.search(r'0xB0', line1)))     ##### add your solution here\n",
    "\n",
    "print(bool(re.search(r'0xB0', line2)))     ##### add your solution here"
   ]
  },
  {
   "cell_type": "markdown",
   "id": "9b4aa5be",
   "metadata": {},
   "source": [
    "b)Remplacer toutes les occurrences de 5 par cinq pour la chaîne donnée"
   ]
  },
  {
   "cell_type": "code",
   "execution_count": 47,
   "id": "b406d2e3",
   "metadata": {},
   "outputs": [
    {
     "name": "stdout",
     "output_type": "stream",
     "text": [
      "They ate five apples and five oranges\n"
     ]
    }
   ],
   "source": [
    "ip = 'They ate 5 apples and 5 oranges'\n",
    "pattern='\\d'\n",
    "print(re.sub(pattern,'five',ip))        ##### add your solution here"
   ]
  },
  {
   "cell_type": "markdown",
   "id": "d0e1d375",
   "metadata": {},
   "source": [
    "c) Pour la liste donnée, filtrez tous les éléments qui ne contiennent pas e."
   ]
  },
  {
   "cell_type": "code",
   "execution_count": 54,
   "id": "6a7099c5",
   "metadata": {},
   "outputs": [
    {
     "name": "stdout",
     "output_type": "stream",
     "text": [
      "False\n",
      "True\n",
      "True\n",
      "False\n",
      "True\n",
      "True\n"
     ]
    }
   ],
   "source": [
    "items = ['goal', 'new', 'user', 'sit', 'eat', 'dinner']\n",
    "\n",
    "##### add your solution here\n",
    "for item in items:\n",
    "    print(len(re.findall(r'[e]+',item))>0)"
   ]
  },
  {
   "cell_type": "markdown",
   "id": "33f2f68a",
   "metadata": {},
   "source": [
    "d) Pour la liste donnée, filtrez tous les éléments qui contiennent à la fois e et n."
   ]
  },
  {
   "cell_type": "code",
   "execution_count": 57,
   "id": "44818110",
   "metadata": {},
   "outputs": [
    {
     "name": "stdout",
     "output_type": "stream",
     "text": [
      "False\n",
      "True\n",
      "True\n",
      "False\n",
      "True\n",
      "True\n",
      "True\n"
     ]
    }
   ],
   "source": [
    "items = ['goal', 'new', 'user', 'sit', 'eat', 'dinner','nur']\n",
    "\n",
    "##### add your solution here\n",
    "##### add your solution here\n",
    "for item in items:\n",
    "    print(len(re.findall(r'[e|n]+',item))>0)"
   ]
  },
  {
   "cell_type": "code",
   "execution_count": null,
   "id": "d6d7fa26",
   "metadata": {},
   "outputs": [],
   "source": []
  }
 ],
 "metadata": {
  "kernelspec": {
   "display_name": "Python 3 (ipykernel)",
   "language": "python",
   "name": "python3"
  },
  "language_info": {
   "codemirror_mode": {
    "name": "ipython",
    "version": 3
   },
   "file_extension": ".py",
   "mimetype": "text/x-python",
   "name": "python",
   "nbconvert_exporter": "python",
   "pygments_lexer": "ipython3",
   "version": "3.11.5"
  }
 },
 "nbformat": 4,
 "nbformat_minor": 5
}
