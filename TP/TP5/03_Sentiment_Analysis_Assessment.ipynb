{
  "cells": [
    {
      "cell_type": "markdown",
      "metadata": {
        "id": "2vcasxK3VGK5"
      },
      "source": [
        "# Évaluation de l'analyse des sentiments - Solution\n",
        "\n",
        "## Tâche #1 : Effectuer une arithmétique vectorielle sur vos propres mots\n",
        "Écrivez un code qui évalue l'arithmétique vectorielle sur votre propre ensemble de mots apparentés. L'objectif est de se rapprocher le plus possible d'un mot attendu."
      ]
    },
    {
      "cell_type": "code",
      "source": [
        "!python -m spacy download en_core_web_md"
      ],
      "metadata": {
        "colab": {
          "base_uri": "https://localhost:8080/"
        },
        "id": "oxrzHiX9WBmK",
        "outputId": "b7a10b45-99ff-45c8-c6d2-fec0e8c5b25d"
      },
      "execution_count": 7,
      "outputs": [
        {
          "output_type": "stream",
          "name": "stdout",
          "text": [
            "Collecting en-core-web-md==3.7.1\n",
            "  Downloading https://github.com/explosion/spacy-models/releases/download/en_core_web_md-3.7.1/en_core_web_md-3.7.1-py3-none-any.whl (42.8 MB)\n",
            "\u001b[2K     \u001b[90m━━━━━━━━━━━━━━━━━━━━━━━━━━━━━━━━━━━━━━━━\u001b[0m \u001b[32m42.8/42.8 MB\u001b[0m \u001b[31m16.7 MB/s\u001b[0m eta \u001b[36m0:00:00\u001b[0m\n",
            "\u001b[?25hRequirement already satisfied: spacy<3.8.0,>=3.7.2 in /usr/local/lib/python3.10/dist-packages (from en-core-web-md==3.7.1) (3.7.2)\n",
            "Requirement already satisfied: spacy-legacy<3.1.0,>=3.0.11 in /usr/local/lib/python3.10/dist-packages (from spacy<3.8.0,>=3.7.2->en-core-web-md==3.7.1) (3.0.12)\n",
            "Requirement already satisfied: spacy-loggers<2.0.0,>=1.0.0 in /usr/local/lib/python3.10/dist-packages (from spacy<3.8.0,>=3.7.2->en-core-web-md==3.7.1) (1.0.5)\n",
            "Requirement already satisfied: murmurhash<1.1.0,>=0.28.0 in /usr/local/lib/python3.10/dist-packages (from spacy<3.8.0,>=3.7.2->en-core-web-md==3.7.1) (1.0.10)\n",
            "Requirement already satisfied: cymem<2.1.0,>=2.0.2 in /usr/local/lib/python3.10/dist-packages (from spacy<3.8.0,>=3.7.2->en-core-web-md==3.7.1) (2.0.8)\n",
            "Requirement already satisfied: preshed<3.1.0,>=3.0.2 in /usr/local/lib/python3.10/dist-packages (from spacy<3.8.0,>=3.7.2->en-core-web-md==3.7.1) (3.0.9)\n",
            "Requirement already satisfied: thinc<8.3.0,>=8.1.8 in /usr/local/lib/python3.10/dist-packages (from spacy<3.8.0,>=3.7.2->en-core-web-md==3.7.1) (8.2.3)\n",
            "Requirement already satisfied: wasabi<1.2.0,>=0.9.1 in /usr/local/lib/python3.10/dist-packages (from spacy<3.8.0,>=3.7.2->en-core-web-md==3.7.1) (1.1.2)\n",
            "Requirement already satisfied: srsly<3.0.0,>=2.4.3 in /usr/local/lib/python3.10/dist-packages (from spacy<3.8.0,>=3.7.2->en-core-web-md==3.7.1) (2.4.8)\n",
            "Requirement already satisfied: catalogue<2.1.0,>=2.0.6 in /usr/local/lib/python3.10/dist-packages (from spacy<3.8.0,>=3.7.2->en-core-web-md==3.7.1) (2.0.10)\n",
            "Requirement already satisfied: weasel<0.4.0,>=0.1.0 in /usr/local/lib/python3.10/dist-packages (from spacy<3.8.0,>=3.7.2->en-core-web-md==3.7.1) (0.3.4)\n",
            "Requirement already satisfied: typer<0.10.0,>=0.3.0 in /usr/local/lib/python3.10/dist-packages (from spacy<3.8.0,>=3.7.2->en-core-web-md==3.7.1) (0.9.0)\n",
            "Requirement already satisfied: smart-open<7.0.0,>=5.2.1 in /usr/local/lib/python3.10/dist-packages (from spacy<3.8.0,>=3.7.2->en-core-web-md==3.7.1) (6.4.0)\n",
            "Requirement already satisfied: tqdm<5.0.0,>=4.38.0 in /usr/local/lib/python3.10/dist-packages (from spacy<3.8.0,>=3.7.2->en-core-web-md==3.7.1) (4.66.1)\n",
            "Requirement already satisfied: requests<3.0.0,>=2.13.0 in /usr/local/lib/python3.10/dist-packages (from spacy<3.8.0,>=3.7.2->en-core-web-md==3.7.1) (2.31.0)\n",
            "Requirement already satisfied: pydantic!=1.8,!=1.8.1,<3.0.0,>=1.7.4 in /usr/local/lib/python3.10/dist-packages (from spacy<3.8.0,>=3.7.2->en-core-web-md==3.7.1) (2.6.1)\n",
            "Requirement already satisfied: jinja2 in /usr/local/lib/python3.10/dist-packages (from spacy<3.8.0,>=3.7.2->en-core-web-md==3.7.1) (3.1.3)\n",
            "Requirement already satisfied: setuptools in /usr/local/lib/python3.10/dist-packages (from spacy<3.8.0,>=3.7.2->en-core-web-md==3.7.1) (67.7.2)\n",
            "Requirement already satisfied: packaging>=20.0 in /usr/local/lib/python3.10/dist-packages (from spacy<3.8.0,>=3.7.2->en-core-web-md==3.7.1) (23.2)\n",
            "Requirement already satisfied: langcodes<4.0.0,>=3.2.0 in /usr/local/lib/python3.10/dist-packages (from spacy<3.8.0,>=3.7.2->en-core-web-md==3.7.1) (3.3.0)\n",
            "Requirement already satisfied: numpy>=1.19.0 in /usr/local/lib/python3.10/dist-packages (from spacy<3.8.0,>=3.7.2->en-core-web-md==3.7.1) (1.25.2)\n",
            "Requirement already satisfied: annotated-types>=0.4.0 in /usr/local/lib/python3.10/dist-packages (from pydantic!=1.8,!=1.8.1,<3.0.0,>=1.7.4->spacy<3.8.0,>=3.7.2->en-core-web-md==3.7.1) (0.6.0)\n",
            "Requirement already satisfied: pydantic-core==2.16.2 in /usr/local/lib/python3.10/dist-packages (from pydantic!=1.8,!=1.8.1,<3.0.0,>=1.7.4->spacy<3.8.0,>=3.7.2->en-core-web-md==3.7.1) (2.16.2)\n",
            "Requirement already satisfied: typing-extensions>=4.6.1 in /usr/local/lib/python3.10/dist-packages (from pydantic!=1.8,!=1.8.1,<3.0.0,>=1.7.4->spacy<3.8.0,>=3.7.2->en-core-web-md==3.7.1) (4.9.0)\n",
            "Requirement already satisfied: charset-normalizer<4,>=2 in /usr/local/lib/python3.10/dist-packages (from requests<3.0.0,>=2.13.0->spacy<3.8.0,>=3.7.2->en-core-web-md==3.7.1) (3.3.2)\n",
            "Requirement already satisfied: idna<4,>=2.5 in /usr/local/lib/python3.10/dist-packages (from requests<3.0.0,>=2.13.0->spacy<3.8.0,>=3.7.2->en-core-web-md==3.7.1) (3.6)\n",
            "Requirement already satisfied: urllib3<3,>=1.21.1 in /usr/local/lib/python3.10/dist-packages (from requests<3.0.0,>=2.13.0->spacy<3.8.0,>=3.7.2->en-core-web-md==3.7.1) (2.0.7)\n",
            "Requirement already satisfied: certifi>=2017.4.17 in /usr/local/lib/python3.10/dist-packages (from requests<3.0.0,>=2.13.0->spacy<3.8.0,>=3.7.2->en-core-web-md==3.7.1) (2024.2.2)\n",
            "Requirement already satisfied: blis<0.8.0,>=0.7.8 in /usr/local/lib/python3.10/dist-packages (from thinc<8.3.0,>=8.1.8->spacy<3.8.0,>=3.7.2->en-core-web-md==3.7.1) (0.7.11)\n",
            "Requirement already satisfied: confection<1.0.0,>=0.0.1 in /usr/local/lib/python3.10/dist-packages (from thinc<8.3.0,>=8.1.8->spacy<3.8.0,>=3.7.2->en-core-web-md==3.7.1) (0.1.4)\n",
            "Requirement already satisfied: click<9.0.0,>=7.1.1 in /usr/local/lib/python3.10/dist-packages (from typer<0.10.0,>=0.3.0->spacy<3.8.0,>=3.7.2->en-core-web-md==3.7.1) (8.1.7)\n",
            "Requirement already satisfied: cloudpathlib<0.17.0,>=0.7.0 in /usr/local/lib/python3.10/dist-packages (from weasel<0.4.0,>=0.1.0->spacy<3.8.0,>=3.7.2->en-core-web-md==3.7.1) (0.16.0)\n",
            "Requirement already satisfied: MarkupSafe>=2.0 in /usr/local/lib/python3.10/dist-packages (from jinja2->spacy<3.8.0,>=3.7.2->en-core-web-md==3.7.1) (2.1.5)\n",
            "Installing collected packages: en-core-web-md\n",
            "Successfully installed en-core-web-md-3.7.1\n",
            "\u001b[38;5;2m✔ Download and installation successful\u001b[0m\n",
            "You can now load the package via spacy.load('en_core_web_md')\n"
          ]
        }
      ]
    },
    {
      "cell_type": "code",
      "execution_count": 8,
      "metadata": {
        "id": "LYdE08F7VGK7"
      },
      "outputs": [],
      "source": [
        "# Import spaCy and load the language library. Remember to use a larger model!\n",
        "import spacy\n",
        "nlp = spacy.load('en_core_web_md')\n"
      ]
    },
    {
      "cell_type": "code",
      "execution_count": 11,
      "metadata": {
        "colab": {
          "base_uri": "https://localhost:8080/"
        },
        "id": "Y10WwDOsVGK7",
        "outputId": "6ca349cd-dc95-4a36-9102-1bbc0f805e0f"
      },
      "outputs": [
        {
          "output_type": "stream",
          "name": "stdout",
          "text": [
            "[-3.7709   -1.3284    0.79696   0.47303   1.3       1.0699    2.2965\n",
            "  5.2171    2.1576    0.55611  -2.0971    1.9769    0.72909   0.27559\n",
            "  0.73741   0.15402  -3.8241   -4.6005    6.0072   -1.6034   -0.33749\n",
            " -3.269     1.9061   -1.7289    1.5341   -3.3926   -3.2786   -2.6713\n",
            "  5.4079    1.2947    5.0167   -1.7726    3.4465   -3.4258   -0.84564\n",
            " -4.3351   -1.2013    1.3883    1.8893   -2.4656   -0.034432  0.59057\n",
            " -0.45243   3.4095    2.5298    0.29752  -0.57289   2.2729   -1.3483\n",
            " -0.68734   3.1962    1.1273    1.9584   -0.92057   1.4038    1.4081\n",
            "  1.2855   -2.7679    5.881     1.4653    2.0177   -1.2628   -0.26779\n",
            " -1.2694    2.7824   -0.76136  -0.56511   4.2951   -0.86776   2.5771\n",
            "  1.4708   -3.1335    2.0929    2.41      1.2715    0.48055   3.7453\n",
            "  2.7642    1.0855    0.51975  -2.7295   -5.3149   -0.60775   0.32877\n",
            "  2.075     0.67167   1.3674   -1.8279    0.1825   -0.29214   1.5591\n",
            " -0.3724   -2.0204   -0.42739   0.14553   0.16818  -3.848    -1.8057\n",
            " -0.97338   0.14947   1.4448   -2.9473   -1.9331    3.4288   -3.7236\n",
            " -2.6703   -4.7235    0.4298   -2.975    -0.27929  -2.5713   -1.5211\n",
            "  0.58888  -0.018641  1.0221    0.83877  -1.8712    3.5067   -1.7699\n",
            "  2.3073    4.8047   -2.3364   -5.3236   -5.2508   -0.93137   3.0705\n",
            "  7.5514    0.83275   3.3681    2.4032    5.3319   -4.4789    1.2687\n",
            " -1.9592   -0.40127  -1.2498   -4.4069    0.88209   3.6014   -1.391\n",
            " -0.72252   0.16334  -2.7321    2.0786    0.6454    0.46345  -3.689\n",
            " -0.14278   2.4678   -1.6379   -1.2303   -3.0492    3.0178   -0.19367\n",
            " -2.4793   -0.90932   3.6918    1.171    -4.5256   -1.4757    1.7169\n",
            " -1.5325   -0.86385  -0.092651 -2.7072   -0.76095   3.3907    1.485\n",
            " -1.3853    4.8185   -0.32713   0.62385   1.724    -2.0613    1.3663\n",
            " -2.7865   -4.7824   -4.6047    0.69439  -0.70151  -1.3038   -1.9165\n",
            " -2.1135    2.2077   -1.7144   -2.4843    1.8173    0.52672   0.4379\n",
            " -2.3289    1.2056    4.2589   -0.62959  -1.1263    0.43872  -5.32\n",
            "  1.0485    1.3515    0.65183   4.6686    1.3327    2.4633    0.98851\n",
            " -5.0637   -4.1512   -0.26667  -0.10532  -2.8192   -0.068488  4.0562\n",
            " -1.6296    4.354    -1.6945    0.37798   2.6534    1.6243   -1.8913\n",
            "  2.9496    0.41488  -1.1845   -3.0349   -0.40707  -2.0344    2.6741\n",
            " -5.1455   -0.19624  -0.60104   1.7447    2.7101   -0.18203  -2.9188\n",
            "  0.14862   0.77142   1.5779   -2.1026   -0.80874   2.2648   -0.82576\n",
            " -1.6922   -0.87558   0.21783   0.058705  0.33645   0.5809   -0.48101\n",
            "  0.69183   1.7215    2.1659   -0.25658   0.83719   0.75684   2.0053\n",
            " -1.576     8.6628    4.1628   -0.82578   0.26597   0.63385   3.0832\n",
            "  1.5673    0.038578 -4.0666   -1.612    -1.5657    0.28325  -1.1171\n",
            "  0.57625  -2.1234   -4.4521    3.8059    1.9022   -2.8465   -3.867\n",
            "  2.8747    0.052124  0.16021  -0.027958  0.423     5.3792   -0.087693\n",
            " -0.96653  -1.4851   -0.53152  -3.798     0.36934  -0.3193   -3.2479\n",
            " -3.3238   -1.5841    0.62435  -0.67319  -1.9253   -0.97101   1.0019\n",
            "  0.19544   0.82867  -3.8477    2.3754    3.3711    2.5239  ]\n",
            "\n",
            "\n",
            "\n",
            "\n",
            "[-0.33203  -0.3522   -0.011708 -0.88964  -0.75291   1.8457    0.62379\n",
            "  1.0119    2.1302    1.7795    1.2335   -1.2077   -1.6876    0.33506\n",
            "  0.37671   0.83856   0.031083 -4.4312   -0.83196  -1.0364   -1.2641\n",
            "  1.848    -0.28883  -1.5275    0.73359  -1.5575    0.28682  -0.65072\n",
            " -0.7927    1.7292    0.32438  -0.93549   2.1866   -0.79948  -1.1394\n",
            " -3.9373   -0.99964  -1.9653    1.9457    4.2572   -0.8012   -0.56891\n",
            " -1.0241   -4.0848   -5.5438    0.4382   -0.082399 -4.6469   -2.4376\n",
            "  2.1422   -0.80818  -2.2621    3.8545   -2.4708   -1.7014    1.7238\n",
            "  1.5033    0.32218  -1.2073    0.41837   0.11265   0.39928   1.0922\n",
            " -1.8873   -5.8734   -1.3336   -2.49     -1.3867   -1.2559   -1.1797\n",
            "  2.5552    1.7587   -1.9658    0.065817  1.1824    0.97211  -0.6205\n",
            "  0.44542   0.92654   1.3347    0.74309   1.5598    1.817    -1.1325\n",
            " -2.7145    1.5573   -0.29974  -0.84252   2.1585   -1.295    -1.2291\n",
            " -2.2871   -0.085077 -3.6376   -1.6964   -0.69068   0.93347   0.28267\n",
            " -0.34476  -2.1725   -1.4491    1.3936    0.1783    1.5847   -3.98\n",
            "  0.54971  -0.37694   1.6987   -1.978     2.3775   -1.3384   -3.1121\n",
            "  1.7957   -1.1368   -0.49529   1.629    -2.4188    2.5688    2.2806\n",
            "  0.1688   -0.40327   0.6983   -4.5009    4.1832   -0.55077   0.054487\n",
            " -0.59604   0.87615  -1.5814   -1.5783    1.6821    4.7371   -1.1554\n",
            " -2.0906    0.3265    2.5854    1.3447    0.16899   1.9046   -3.2121\n",
            " -3.2308   -1.037     0.58301   2.3261   -5.8928    0.38668   0.40396\n",
            "  0.6546    1.1612   -1.4183    0.32217   0.82264  -2.0215    1.3695\n",
            " -2.7139    2.8976    2.1415    2.3856   -0.9723    0.96908   1.2456\n",
            " -0.26443  -1.9519    0.051155 -1.987     0.65262   3.9224   -0.29806\n",
            " -1.2094    3.4512    1.473     0.21217   2.3084   -4.0059   -2.395\n",
            " -2.8058   -1.6577    2.8943    3.2329   -0.91901  -0.37853   1.1244\n",
            "  2.9871    1.3323   -0.92495   0.23867  -2.9782    0.13664   2.3691\n",
            " -1.6737   -2.3126    0.50444  -0.86522  -1.8385   -1.9724   -4.2468\n",
            " -1.9862   -0.92723  -0.16031   0.90947  -0.82526   1.7251    0.051674\n",
            " -2.0646   -2.9562    1.9119    2.2549   -0.18586  -0.42561   0.40343\n",
            " -1.3311    0.57066  -0.44766  -1.3727   -1.8881   -1.8829   -2.9078\n",
            "  1.7616    1.5483   -2.2205   -0.28344  -1.3311   -0.059834  3.8593\n",
            "  1.2231   -0.0147   -3.2513    0.46675  -1.0193    0.27312  -2.5954\n",
            " -1.9974    3.3218    0.074786 -0.7847    0.012676 -0.83699   3.1354\n",
            " -0.92994   0.1729    0.37295  -1.1619    1.3987    0.62199  -2.9019\n",
            " -1.4288   -0.070483 -1.0229   -1.2622    1.1389   -1.6718    3.0847\n",
            " -3.7988    1.9069    0.7855   -3.1037   -1.1206    1.8812   -0.89774\n",
            "  1.7879    3.1563   -0.67044   0.604    -0.74343  -0.13245   1.9818\n",
            "  1.4718    0.23751  -1.756    -0.94157   1.3824   -0.013683 -1.5881\n",
            "  1.7418   -2.3436    1.6381    2.5274   -1.5634    2.2981   -1.798\n",
            " -1.6546   -2.3959    0.46843   0.99801   1.7397   -1.9655    3.3896\n",
            " -0.55801  -0.75166  -0.4585   -0.33523  -0.37922   4.5423   -2.3235\n",
            " -1.3455   -2.0702    0.20349   3.63      1.0342    1.6829  ]\n",
            "0.14134301370307345\n"
          ]
        }
      ],
      "source": [
        "# Choose the words you wish to compare, and obtain their vectors\n",
        "\n",
        "good=nlp('beatiful')\n",
        "bad=nlp('awful')\n",
        "print(good.vector)\n",
        "print('\\n\\n\\n')\n",
        "print(bad.vector)\n",
        "print(good.similarity(bad))\n"
      ]
    },
    {
      "cell_type": "code",
      "execution_count": 19,
      "metadata": {
        "id": "ZxPO_VNVVGK8"
      },
      "outputs": [],
      "source": [
        "\n",
        "# Import spatial and define a cosine_similarity function\n",
        "from scipy import spatial\n",
        "cosine_similarity = lambda x, y: 1 - spatial.distance.cosine(x, y)\n"
      ]
    },
    {
      "cell_type": "code",
      "execution_count": 16,
      "metadata": {
        "id": "UqSBgWuNVGK8"
      },
      "outputs": [],
      "source": [
        "# Write an expression for vector arithmetic\n",
        "# For example: new_vector = word1 - word2 + word3\n",
        "king = nlp.vocab['knight'].vector\n",
        "man = nlp.vocab['warrior'].vector\n",
        "woman = nlp.vocab['woman'].vector\n",
        "\n",
        "# Now we find the closest vector in the vocabulary to the result of \"man\" - \"woman\" + \"queen\"\n",
        "new_vector = king - man + woman"
      ]
    },
    {
      "cell_type": "code",
      "execution_count": 20,
      "metadata": {
        "colab": {
          "base_uri": "https://localhost:8080/"
        },
        "id": "gCimZLVPVGK8",
        "outputId": "cc7976b0-8ed9-4d60-93ad-fcaca9538fb0"
      },
      "outputs": [
        {
          "output_type": "stream",
          "name": "stdout",
          "text": [
            "['woman', 'knight', 'she', 'he', 'somethin', 'nothin', 'who', 'when', 'you', 'havin']\n"
          ]
        }
      ],
      "source": [
        "# List the top ten closest vectors in the vocabulary to the result of the expression above\n",
        "computed_similarities = []\n",
        "for word in nlp.vocab:\n",
        "    # Ignore words without vectors and mixed-case words:\n",
        "    if word.has_vector:\n",
        "        if word.is_lower:\n",
        "            if word.is_alpha:\n",
        "                similarity = cosine_similarity(new_vector, word.vector)\n",
        "                computed_similarities.append((word, similarity))\n",
        "\n",
        "computed_similarities = sorted(computed_similarities, key=lambda item: -item[1])\n",
        "\n",
        "print([w[0].text for w in computed_similarities[:10]])\n",
        "\n",
        "\n",
        "\n",
        "\n",
        "\n",
        "\n",
        "\n",
        "\n",
        "\n"
      ]
    },
    {
      "cell_type": "markdown",
      "metadata": {
        "id": "diDSr-9eVGK8"
      },
      "source": [
        "#### DÉFI : Écrire une fonction qui prend 3 chaînes de caractères, effectue l'arithmétique a-b+c et renvoie un résultat de dix premiers."
      ]
    },
    {
      "cell_type": "code",
      "execution_count": 23,
      "metadata": {
        "id": "fanjYbPbVGK8"
      },
      "outputs": [],
      "source": [
        "def vector_math(a,b,c):\n",
        "  nlp_a=nlp.vocab[a].vector\n",
        "  nlp_b=nlp.vocab[b].vector\n",
        "  nlp_c=nlp.vocab[c].vector\n",
        "  new_vector=nlp_a-nlp_b+nlp_c\n",
        "  computed_similarities = []\n",
        "  for word in nlp.vocab:\n",
        "      # Ignore words without vectors and mixed-case words:\n",
        "      if word.has_vector:\n",
        "          if word.is_lower:\n",
        "              if word.is_alpha:\n",
        "                  similarity = cosine_similarity(new_vector, word.vector)\n",
        "                  computed_similarities.append((word, similarity))\n",
        "\n",
        "  computed_similarities = sorted(computed_similarities, key=lambda item: -item[1])\n",
        "  return [w[0].text for w in computed_similarities[:10]]\n",
        "\n",
        "\n",
        "\n",
        "\n",
        "\n",
        "\n",
        "\n",
        "\n",
        "\n",
        "\n",
        "\n",
        ""
      ]
    },
    {
      "cell_type": "code",
      "execution_count": 24,
      "metadata": {
        "colab": {
          "base_uri": "https://localhost:8080/"
        },
        "id": "lak0k4aHVGK8",
        "outputId": "344e05db-b754-40c9-c3f3-b2824a92744c"
      },
      "outputs": [
        {
          "output_type": "execute_result",
          "data": {
            "text/plain": [
              "['king',\n",
              " 'knight',\n",
              " 'and',\n",
              " 'that',\n",
              " 'havin',\n",
              " 'warrior',\n",
              " 'where',\n",
              " 'she',\n",
              " 'they',\n",
              " 'woman']"
            ]
          },
          "metadata": {},
          "execution_count": 24
        }
      ],
      "source": [
        "# Test the function on known words:\n",
        "vector_math('king','man','woman')"
      ]
    },
    {
      "cell_type": "markdown",
      "metadata": {
        "id": "FdRPL29kVGK9"
      },
      "source": [
        "## Tâche #2 : Effectuer une analyse de sentiment VADER sur votre propre commentaire\n",
        "Écrivez un code qui renvoie un ensemble de scores de polarité SentimentIntensityAnalyzer sur la base de votre propre critique écrite."
      ]
    },
    {
      "cell_type": "code",
      "execution_count": 25,
      "metadata": {
        "id": "K1wckO2AVGK9"
      },
      "outputs": [],
      "source": [
        "# Import SentimentIntensityAnalyzer and create an sid object\n",
        "\n",
        "from nltk.sentiment.vader import SentimentIntensityAnalyzer\n",
        "\n",
        "sid = SentimentIntensityAnalyzer()\n"
      ]
    },
    {
      "cell_type": "code",
      "execution_count": 26,
      "metadata": {
        "id": "o05FDC8lVGK9"
      },
      "outputs": [],
      "source": [
        "# Write a review as one continuous string (multiple sentences are ok)\n",
        "review = '''\n",
        "Batman, created by Bob Kane and Bill Finger, first appeared in Detective Comics #27 in 1939. Over the years, Batman comics have been praised for their depth, complexity, and artistic innovation. Key storylines like \"The Dark Knight Returns,\" \"Batman: Year One,\" and \"The Killing Joke\" are often highlighted for their mature themes and exploration of Batman's character.\n",
        "\n",
        "'''"
      ]
    },
    {
      "cell_type": "code",
      "execution_count": 27,
      "metadata": {
        "colab": {
          "base_uri": "https://localhost:8080/"
        },
        "id": "4eBqpNIFVGK9",
        "outputId": "91bd58c2-4e56-41d3-b165-97096ca101fd"
      },
      "outputs": [
        {
          "output_type": "execute_result",
          "data": {
            "text/plain": [
              "{'neg': 0.062, 'neu': 0.694, 'pos': 0.244, 'compound': 0.8689}"
            ]
          },
          "metadata": {},
          "execution_count": 27
        }
      ],
      "source": [
        "# Obtain the sid scores for your review\n",
        "sid.polarity_scores(review)"
      ]
    },
    {
      "cell_type": "markdown",
      "metadata": {
        "id": "ilnTK0JGVGK9"
      },
      "source": [
        "### DÉFI : Écrire une fonction qui prend en compte un avis et renvoie une note \"positive\", \"négative\" ou \"neutre\""
      ]
    },
    {
      "cell_type": "code",
      "execution_count": 35,
      "metadata": {
        "id": "oawcqiZFVGK9"
      },
      "outputs": [],
      "source": [
        "def review_rating(string):\n",
        "\n",
        "    d= sid.polarity_scores(string)\n",
        "    max_key = max((k for k in d if k != 'compound'), key=lambda k: d[k])\n",
        "    if max_key=='neu':\n",
        "      return 'neutre'\n",
        "    if max_key=='neg':\n",
        "      return 'négative'\n",
        "    return 'positive'\n",
        "\n",
        "\n",
        "\n",
        "\n",
        ""
      ]
    },
    {
      "cell_type": "code",
      "execution_count": 36,
      "metadata": {
        "colab": {
          "base_uri": "https://localhost:8080/",
          "height": 35
        },
        "id": "tJBLJSnJVGK9",
        "outputId": "e6bf2d6e-c0d5-46d4-fb62-95ff30cd364f"
      },
      "outputs": [
        {
          "output_type": "execute_result",
          "data": {
            "text/plain": [
              "'neutre'"
            ],
            "application/vnd.google.colaboratory.intrinsic+json": {
              "type": "string"
            }
          },
          "metadata": {},
          "execution_count": 36
        }
      ],
      "source": [
        "# Test the function on your review above:\n",
        "review_rating(review)"
      ]
    }
  ],
  "metadata": {
    "kernelspec": {
      "display_name": "Python 3 (ipykernel)",
      "language": "python",
      "name": "python3"
    },
    "language_info": {
      "codemirror_mode": {
        "name": "ipython",
        "version": 3
      },
      "file_extension": ".py",
      "mimetype": "text/x-python",
      "name": "python",
      "nbconvert_exporter": "python",
      "pygments_lexer": "ipython3",
      "version": "3.9.13"
    },
    "colab": {
      "provenance": []
    }
  },
  "nbformat": 4,
  "nbformat_minor": 0
}